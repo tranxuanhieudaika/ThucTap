{
 "cells": [
  {
   "cell_type": "markdown",
   "metadata": {},
   "source": [
    "# 1.Import library "
   ]
  },
  {
   "cell_type": "code",
   "execution_count": 306,
   "metadata": {},
   "outputs": [],
   "source": [
    "import pandas as pd\n",
    "import numpy as np\n",
    "import matplotlib.pyplot as plt\n",
    "import re\n"
   ]
  },
  {
   "cell_type": "markdown",
   "metadata": {},
   "source": [
    "# 2.Load data"
   ]
  },
  {
   "cell_type": "code",
   "execution_count": 307,
   "metadata": {},
   "outputs": [
    {
     "data": {
      "text/html": [
       "<div>\n",
       "<style scoped>\n",
       "    .dataframe tbody tr th:only-of-type {\n",
       "        vertical-align: middle;\n",
       "    }\n",
       "\n",
       "    .dataframe tbody tr th {\n",
       "        vertical-align: top;\n",
       "    }\n",
       "\n",
       "    .dataframe thead th {\n",
       "        text-align: right;\n",
       "    }\n",
       "</style>\n",
       "<table border=\"1\" class=\"dataframe\">\n",
       "  <thead>\n",
       "    <tr style=\"text-align: right;\">\n",
       "      <th></th>\n",
       "      <th>Unnamed: 0</th>\n",
       "      <th>DiaChi</th>\n",
       "      <th>DienTich</th>\n",
       "      <th>Phongngu</th>\n",
       "      <th>SoTang</th>\n",
       "      <th>PhongTam</th>\n",
       "      <th>Loai</th>\n",
       "      <th>TinhTrangNoiThat</th>\n",
       "      <th>HuongCuaChinh</th>\n",
       "      <th>HuongBanCong</th>\n",
       "      <th>Gia</th>\n",
       "    </tr>\n",
       "  </thead>\n",
       "  <tbody>\n",
       "    <tr>\n",
       "      <th>0</th>\n",
       "      <td>0</td>\n",
       "      <td>Đường Nguyễn Văn Quỳ, Phường Phú Thuận, Quận 7...</td>\n",
       "      <td>62 m²</td>\n",
       "      <td>2 phòng</td>\n",
       "      <td>NaN</td>\n",
       "      <td>2 phòng</td>\n",
       "      <td>Chung cư</td>\n",
       "      <td>NaN</td>\n",
       "      <td>NaN</td>\n",
       "      <td>NaN</td>\n",
       "      <td>2 tỷ- 62 m2đ</td>\n",
       "    </tr>\n",
       "    <tr>\n",
       "      <th>1</th>\n",
       "      <td>1</td>\n",
       "      <td>Đường Nguyễn Văn Linh, Phường Tân Thuận Tây, Q...</td>\n",
       "      <td>95 m²</td>\n",
       "      <td>3 phòng</td>\n",
       "      <td>NaN</td>\n",
       "      <td>2 phòng</td>\n",
       "      <td>Chung cư</td>\n",
       "      <td>Nội thất cao cấp</td>\n",
       "      <td>NaN</td>\n",
       "      <td>NaN</td>\n",
       "      <td>5,3 tỷ- 95 m2đ</td>\n",
       "    </tr>\n",
       "    <tr>\n",
       "      <th>2</th>\n",
       "      <td>2</td>\n",
       "      <td>Đường Võ Văn Kiệt, Phường An Lạc, Quận Bình Tâ...</td>\n",
       "      <td>75 m²</td>\n",
       "      <td>2 phòng</td>\n",
       "      <td>5.0</td>\n",
       "      <td>2 phòng</td>\n",
       "      <td>Chung cư</td>\n",
       "      <td>NaN</td>\n",
       "      <td>Đông Nam</td>\n",
       "      <td>Đông Nam</td>\n",
       "      <td>2,58 tỷ- 75 m2đ</td>\n",
       "    </tr>\n",
       "    <tr>\n",
       "      <th>3</th>\n",
       "      <td>3</td>\n",
       "      <td>108, Đường Hồng Hà, Phường 2, Quận Tân Bình, T...</td>\n",
       "      <td>70 m²</td>\n",
       "      <td>1 phòng</td>\n",
       "      <td>7.0</td>\n",
       "      <td>1 phòng</td>\n",
       "      <td>Chung cư</td>\n",
       "      <td>Nội thất cao cấp</td>\n",
       "      <td>Đông Nam</td>\n",
       "      <td>Tây Bắc</td>\n",
       "      <td>4 tỷ- 70 m2đ</td>\n",
       "    </tr>\n",
       "    <tr>\n",
       "      <th>4</th>\n",
       "      <td>4</td>\n",
       "      <td>Đường Hậu Giang, Phường 11, Quận 6, Tp Hồ Chí ...</td>\n",
       "      <td>83 m²</td>\n",
       "      <td>2 phòng</td>\n",
       "      <td>NaN</td>\n",
       "      <td>2 phòng</td>\n",
       "      <td>Chung cư</td>\n",
       "      <td>Nội thất cao cấp</td>\n",
       "      <td>Tây Bắc</td>\n",
       "      <td>NaN</td>\n",
       "      <td>2,95 tỷ- 83 m2đ</td>\n",
       "    </tr>\n",
       "    <tr>\n",
       "      <th>5</th>\n",
       "      <td>5</td>\n",
       "      <td>196, 196 Đường Cao Lỗ, Phường 4, Quận 8, Tp Hồ...</td>\n",
       "      <td>71 m²</td>\n",
       "      <td>2 phòng</td>\n",
       "      <td>NaN</td>\n",
       "      <td>1 phòng</td>\n",
       "      <td>Chung cư</td>\n",
       "      <td>NaN</td>\n",
       "      <td>NaN</td>\n",
       "      <td>NaN</td>\n",
       "      <td>1,98 tỷ- 71 m2đ</td>\n",
       "    </tr>\n",
       "    <tr>\n",
       "      <th>6</th>\n",
       "      <td>6</td>\n",
       "      <td>79-81, 79-81 Đường Nguyễn Xí, Phường 26, Quận ...</td>\n",
       "      <td>71 m²</td>\n",
       "      <td>2 phòng</td>\n",
       "      <td>NaN</td>\n",
       "      <td>2 phòng</td>\n",
       "      <td>Chung cư</td>\n",
       "      <td>NaN</td>\n",
       "      <td>NaN</td>\n",
       "      <td>NaN</td>\n",
       "      <td>2,72 tỷ- 71 m2đ</td>\n",
       "    </tr>\n",
       "    <tr>\n",
       "      <th>7</th>\n",
       "      <td>7</td>\n",
       "      <td>Đường Nguyễn Văn Linh, Xã Bình Hưng, Huyện Bìn...</td>\n",
       "      <td>78 m²</td>\n",
       "      <td>2 phòng</td>\n",
       "      <td>9.0</td>\n",
       "      <td>2 phòng</td>\n",
       "      <td>Chung cư</td>\n",
       "      <td>NaN</td>\n",
       "      <td>NaN</td>\n",
       "      <td>NaN</td>\n",
       "      <td>2,59 tỷ- 78 m2đ</td>\n",
       "    </tr>\n",
       "    <tr>\n",
       "      <th>8</th>\n",
       "      <td>8</td>\n",
       "      <td>Đường Hồ Học Lãm, Phường An Lạc, Quận Bình Tân...</td>\n",
       "      <td>50 m²</td>\n",
       "      <td>1 phòng</td>\n",
       "      <td>3.0</td>\n",
       "      <td>1 phòng</td>\n",
       "      <td>Chung cư</td>\n",
       "      <td>Hoàn thiện cơ bản</td>\n",
       "      <td>Nam</td>\n",
       "      <td>Bắc</td>\n",
       "      <td>1,39 tỷ- 50 m2đ</td>\n",
       "    </tr>\n",
       "    <tr>\n",
       "      <th>9</th>\n",
       "      <td>9</td>\n",
       "      <td>Đường Nguyễn Văn Bứa, Xã Xuân Thới Sơn, Huyện ...</td>\n",
       "      <td>40 m²</td>\n",
       "      <td>1 phòng</td>\n",
       "      <td>NaN</td>\n",
       "      <td>1 phòng</td>\n",
       "      <td>Chung cư</td>\n",
       "      <td>NaN</td>\n",
       "      <td>NaN</td>\n",
       "      <td>NaN</td>\n",
       "      <td>150 triệu- 40 m2đ</td>\n",
       "    </tr>\n",
       "  </tbody>\n",
       "</table>\n",
       "</div>"
      ],
      "text/plain": [
       "   Unnamed: 0                                             DiaChi DienTich  \\\n",
       "0           0  Đường Nguyễn Văn Quỳ, Phường Phú Thuận, Quận 7...    62 m²   \n",
       "1           1  Đường Nguyễn Văn Linh, Phường Tân Thuận Tây, Q...    95 m²   \n",
       "2           2  Đường Võ Văn Kiệt, Phường An Lạc, Quận Bình Tâ...    75 m²   \n",
       "3           3  108, Đường Hồng Hà, Phường 2, Quận Tân Bình, T...    70 m²   \n",
       "4           4  Đường Hậu Giang, Phường 11, Quận 6, Tp Hồ Chí ...    83 m²   \n",
       "5           5  196, 196 Đường Cao Lỗ, Phường 4, Quận 8, Tp Hồ...    71 m²   \n",
       "6           6  79-81, 79-81 Đường Nguyễn Xí, Phường 26, Quận ...    71 m²   \n",
       "7           7  Đường Nguyễn Văn Linh, Xã Bình Hưng, Huyện Bìn...    78 m²   \n",
       "8           8  Đường Hồ Học Lãm, Phường An Lạc, Quận Bình Tân...    50 m²   \n",
       "9           9  Đường Nguyễn Văn Bứa, Xã Xuân Thới Sơn, Huyện ...    40 m²   \n",
       "\n",
       "   Phongngu  SoTang  PhongTam       Loai    TinhTrangNoiThat HuongCuaChinh  \\\n",
       "0   2 phòng     NaN   2 phòng   Chung cư                 NaN           NaN   \n",
       "1   3 phòng     NaN   2 phòng   Chung cư    Nội thất cao cấp           NaN   \n",
       "2   2 phòng     5.0   2 phòng   Chung cư                 NaN      Đông Nam   \n",
       "3   1 phòng     7.0   1 phòng   Chung cư    Nội thất cao cấp      Đông Nam   \n",
       "4   2 phòng     NaN   2 phòng   Chung cư    Nội thất cao cấp       Tây Bắc   \n",
       "5   2 phòng     NaN   1 phòng   Chung cư                 NaN           NaN   \n",
       "6   2 phòng     NaN   2 phòng   Chung cư                 NaN           NaN   \n",
       "7   2 phòng     9.0   2 phòng   Chung cư                 NaN           NaN   \n",
       "8   1 phòng     3.0   1 phòng   Chung cư   Hoàn thiện cơ bản           Nam   \n",
       "9   1 phòng     NaN   1 phòng   Chung cư                 NaN           NaN   \n",
       "\n",
       "  HuongBanCong                Gia  \n",
       "0          NaN       2 tỷ- 62 m2đ  \n",
       "1          NaN     5,3 tỷ- 95 m2đ  \n",
       "2     Đông Nam    2,58 tỷ- 75 m2đ  \n",
       "3      Tây Bắc       4 tỷ- 70 m2đ  \n",
       "4          NaN    2,95 tỷ- 83 m2đ  \n",
       "5          NaN    1,98 tỷ- 71 m2đ  \n",
       "6          NaN    2,72 tỷ- 71 m2đ  \n",
       "7          NaN    2,59 tỷ- 78 m2đ  \n",
       "8          Bắc    1,39 tỷ- 50 m2đ  \n",
       "9          NaN  150 triệu- 40 m2đ  "
      ]
     },
     "execution_count": 307,
     "metadata": {},
     "output_type": "execute_result"
    }
   ],
   "source": [
    "df = pd.read_csv(\"../Data/BatDongSan.csv\")\n",
    "df.head(10)"
   ]
  },
  {
   "cell_type": "markdown",
   "metadata": {},
   "source": [
    "## 3.Data cleaning"
   ]
  },
  {
   "cell_type": "markdown",
   "metadata": {},
   "source": [
    "## 3.1 Hiểu dữ liệu "
   ]
  },
  {
   "cell_type": "code",
   "execution_count": 308,
   "metadata": {},
   "outputs": [
    {
     "name": "stdout",
     "output_type": "stream",
     "text": [
      "<class 'pandas.core.frame.DataFrame'>\n",
      "RangeIndex: 24949 entries, 0 to 24948\n",
      "Data columns (total 11 columns):\n",
      " #   Column            Non-Null Count  Dtype  \n",
      "---  ------            --------------  -----  \n",
      " 0   Unnamed: 0        24949 non-null  int64  \n",
      " 1   DiaChi            24949 non-null  object \n",
      " 2   DienTich          24917 non-null  object \n",
      " 3   Phongngu          24926 non-null  object \n",
      " 4   SoTang            6726 non-null   float64\n",
      " 5   PhongTam          24388 non-null  object \n",
      " 6   Loai              24926 non-null  object \n",
      " 7   TinhTrangNoiThat  12790 non-null  object \n",
      " 8   HuongCuaChinh     9370 non-null   object \n",
      " 9   HuongBanCong      8670 non-null   object \n",
      " 10  Gia               24949 non-null  object \n",
      "dtypes: float64(1), int64(1), object(9)\n",
      "memory usage: 2.1+ MB\n"
     ]
    }
   ],
   "source": [
    "# hiển thị tên của các cột \n",
    "df.info()"
   ]
  },
  {
   "cell_type": "code",
   "execution_count": 309,
   "metadata": {},
   "outputs": [
    {
     "data": {
      "text/plain": [
       "(24949, 11)"
      ]
     },
     "execution_count": 309,
     "metadata": {},
     "output_type": "execute_result"
    }
   ],
   "source": [
    "# kiểm tra số hàng và cột \n",
    "df.shape"
   ]
  },
  {
   "cell_type": "code",
   "execution_count": 310,
   "metadata": {},
   "outputs": [
    {
     "data": {
      "text/plain": [
       "Unnamed: 0              0\n",
       "DiaChi                  0\n",
       "DienTich               32\n",
       "Phongngu               23\n",
       "SoTang              18223\n",
       "PhongTam              561\n",
       "Loai                   23\n",
       "TinhTrangNoiThat    12159\n",
       "HuongCuaChinh       15579\n",
       "HuongBanCong        16279\n",
       "Gia                     0\n",
       "dtype: int64"
      ]
     },
     "execution_count": 310,
     "metadata": {},
     "output_type": "execute_result"
    }
   ],
   "source": [
    "#kiểm tra giá trị bị thiếu\n",
    "df.isna().sum()"
   ]
  },
  {
   "cell_type": "code",
   "execution_count": 311,
   "metadata": {},
   "outputs": [
    {
     "data": {
      "text/html": [
       "<div>\n",
       "<style scoped>\n",
       "    .dataframe tbody tr th:only-of-type {\n",
       "        vertical-align: middle;\n",
       "    }\n",
       "\n",
       "    .dataframe tbody tr th {\n",
       "        vertical-align: top;\n",
       "    }\n",
       "\n",
       "    .dataframe thead th {\n",
       "        text-align: right;\n",
       "    }\n",
       "</style>\n",
       "<table border=\"1\" class=\"dataframe\">\n",
       "  <thead>\n",
       "    <tr style=\"text-align: right;\">\n",
       "      <th></th>\n",
       "      <th>count</th>\n",
       "      <th>mean</th>\n",
       "      <th>std</th>\n",
       "      <th>min</th>\n",
       "      <th>25%</th>\n",
       "      <th>50%</th>\n",
       "      <th>75%</th>\n",
       "      <th>max</th>\n",
       "    </tr>\n",
       "  </thead>\n",
       "  <tbody>\n",
       "    <tr>\n",
       "      <th>Unnamed: 0</th>\n",
       "      <td>24949.0</td>\n",
       "      <td>12474.000000</td>\n",
       "      <td>7202.300269</td>\n",
       "      <td>0.0</td>\n",
       "      <td>6237.0</td>\n",
       "      <td>12474.0</td>\n",
       "      <td>18711.0</td>\n",
       "      <td>24948.0</td>\n",
       "    </tr>\n",
       "    <tr>\n",
       "      <th>SoTang</th>\n",
       "      <td>6726.0</td>\n",
       "      <td>11.482307</td>\n",
       "      <td>18.142728</td>\n",
       "      <td>1.0</td>\n",
       "      <td>5.0</td>\n",
       "      <td>9.0</td>\n",
       "      <td>16.0</td>\n",
       "      <td>789.0</td>\n",
       "    </tr>\n",
       "  </tbody>\n",
       "</table>\n",
       "</div>"
      ],
      "text/plain": [
       "              count          mean          std  min     25%      50%      75%  \\\n",
       "Unnamed: 0  24949.0  12474.000000  7202.300269  0.0  6237.0  12474.0  18711.0   \n",
       "SoTang       6726.0     11.482307    18.142728  1.0     5.0      9.0     16.0   \n",
       "\n",
       "                max  \n",
       "Unnamed: 0  24948.0  \n",
       "SoTang        789.0  "
      ]
     },
     "execution_count": 311,
     "metadata": {},
     "output_type": "execute_result"
    }
   ],
   "source": [
    "## bản này giúp ta nhìn tổng quan về bộ dữ liệu (nhưng vì lí do chưa làm sạch nên chưa chính xác)\n",
    "df.describe().T\n"
   ]
  },
  {
   "cell_type": "markdown",
   "metadata": {},
   "source": [
    "## 3.2 tạo thuộc tính mới và làm sạch "
   ]
  },
  {
   "cell_type": "code",
   "execution_count": 312,
   "metadata": {},
   "outputs": [
    {
     "name": "stdout",
     "output_type": "stream",
     "text": [
      "<class 'pandas.core.frame.DataFrame'>\n",
      "RangeIndex: 24949 entries, 0 to 24948\n",
      "Data columns (total 11 columns):\n",
      " #   Column            Non-Null Count  Dtype  \n",
      "---  ------            --------------  -----  \n",
      " 0   Unnamed: 0        24949 non-null  int64  \n",
      " 1   DiaChi            24949 non-null  object \n",
      " 2   DienTich          24917 non-null  object \n",
      " 3   Phongngu          24926 non-null  object \n",
      " 4   SoTang            6726 non-null   float64\n",
      " 5   PhongTam          24388 non-null  object \n",
      " 6   Loai              24926 non-null  object \n",
      " 7   TinhTrangNoiThat  12790 non-null  object \n",
      " 8   HuongCuaChinh     9370 non-null   object \n",
      " 9   HuongBanCong      8670 non-null   object \n",
      " 10  Gia               24949 non-null  object \n",
      "dtypes: float64(1), int64(1), object(9)\n",
      "memory usage: 2.1+ MB\n"
     ]
    }
   ],
   "source": [
    "# loại bỏ cột thứ tự\n",
    "#df = df.drop(\"Unnamed: 0\", axis=1)\n",
    "df.info()"
   ]
  },
  {
   "cell_type": "code",
   "execution_count": 313,
   "metadata": {},
   "outputs": [],
   "source": [
    "#xóa từ phòng trong phòng ngủ\n",
    "df['Phongngu'] = df['Phongngu'].str.replace('phòng', '')\n",
    "df['Phongngu'] = df['Phongngu'].str.replace('nhiều hơn 10', '10')\n",
    "#chuyển đỗi phòng ngủ qua dạng số\n",
    "df['Phongngu'] = df['Phongngu']\n"
   ]
  },
  {
   "cell_type": "code",
   "execution_count": 314,
   "metadata": {},
   "outputs": [
    {
     "data": {
      "text/plain": [
       "array([' 2 ', ' 3 ', ' 1 ', ' 4 ', nan, ' 5 ', ' 6 ', ' 10 ', ' 7 ',\n",
       "       ' 8 '], dtype=object)"
      ]
     },
     "execution_count": 314,
     "metadata": {},
     "output_type": "execute_result"
    }
   ],
   "source": [
    "df['Phongngu'].unique()"
   ]
  },
  {
   "cell_type": "code",
   "execution_count": 315,
   "metadata": {},
   "outputs": [],
   "source": [
    "#xóa từ phòng trong PhongTam\n",
    "df['PhongTam'] = df['PhongTam'].str.replace('phòng', '')\n",
    "df['PhongTam'] = df['PhongTam'].str.replace('Nhiều hơn 6', '6')\n",
    "#đổi giá trị NaN thành 0\n",
    "df[\"PhongTam\"] = df[\"PhongTam\"].fillna(0)\n",
    "#chuyển đỗi phòng ngủ qua dạng số\n",
    "df['PhongTam'] = df['PhongTam']\n"
   ]
  },
  {
   "cell_type": "code",
   "execution_count": 316,
   "metadata": {},
   "outputs": [
    {
     "data": {
      "text/plain": [
       "array([' 2 ', ' 1 ', ' 4 ', ' 3 ', 0, ' 5 ', ' 6 '], dtype=object)"
      ]
     },
     "execution_count": 316,
     "metadata": {},
     "output_type": "execute_result"
    }
   ],
   "source": [
    "df['PhongTam'].unique()"
   ]
  },
  {
   "cell_type": "code",
   "execution_count": 317,
   "metadata": {},
   "outputs": [],
   "source": [
    "df.rename(columns={\"DienTich\": \"DienTich(m²)\"}, inplace=True)\n",
    "#xóa từ m2 trong cột diện tích\n",
    "df['DienTich(m²)'] = df['DienTich(m²)'].str.replace('m²', '')\n",
    "df['DienTich(m²)'] = df['DienTich(m²)'].str.replace('m2', '')\n",
    "df = df[df['DienTich(m²)'].notnull()]\n"
   ]
  },
  {
   "cell_type": "code",
   "execution_count": 318,
   "metadata": {},
   "outputs": [
    {
     "data": {
      "text/plain": [
       "array([' 62 ', ' 95 ', ' 75 ', ..., ' 81.3 ', ' 57.32 ', ' 68.52 '],\n",
       "      shape=(1010,), dtype=object)"
      ]
     },
     "execution_count": 318,
     "metadata": {},
     "output_type": "execute_result"
    }
   ],
   "source": [
    "df['DienTich(m²)'].unique()"
   ]
  },
  {
   "cell_type": "code",
   "execution_count": 319,
   "metadata": {},
   "outputs": [],
   "source": [
    "df['TinhTrangNoiThat'] = df['TinhTrangNoiThat'].fillna('Không có nội thất')"
   ]
  },
  {
   "cell_type": "code",
   "execution_count": 320,
   "metadata": {},
   "outputs": [],
   "source": [
    "def tach_dia_chi(dia_chi):\n",
    "    duong = re.search(r'^(.*?),', dia_chi)\n",
    "    phuong = re.search(r'Phường\\s([\\w\\s]+)', dia_chi)\n",
    "    quan = re.search(r'Quận\\s([\\w\\s]+)', dia_chi)\n",
    "    thanh_pho = re.search(r'(Tp|Thành phố)\\s[\\w\\s]+$', dia_chi)\n",
    "\n",
    "    return [\n",
    "        duong.group(1) if duong else '', \n",
    "        phuong.group(1) if phuong else '', \n",
    "        quan.group(1) if quan else '', \n",
    "        thanh_pho.group(0) if thanh_pho else ''\n",
    "    ]\n",
    "df[['Duong', 'Phuong', 'Quan', 'ThanhPho']] = df['DiaChi'].apply(lambda x: pd.Series(tach_dia_chi(x)))\n",
    "df.drop(columns=['DiaChi'], inplace=True)"
   ]
  },
  {
   "cell_type": "code",
   "execution_count": 321,
   "metadata": {},
   "outputs": [],
   "source": [
    "#xoá các nhà có hơn 70 tầng\n",
    "df.drop(df[df['SoTang'] >= 70].index, inplace=True)\n",
    "#đổi giá trị NaN thành 0\n",
    "df[\"SoTang\"] = df[\"SoTang\"].fillna(0)"
   ]
  },
  {
   "cell_type": "code",
   "execution_count": 322,
   "metadata": {},
   "outputs": [],
   "source": [
    "df.rename(columns={\"Gia\": \"Gia(Triệu)\"}, inplace=True)\n",
    "#tách giá tiền và đổi đơn vị\n",
    "def extract_price(text):\n",
    "    match = re.search(r'([\\d,.]+)\\s*(tỷ|triệu)?', str(text), re.IGNORECASE)  \n",
    "    if match:\n",
    "        value = float(match.group(1).replace(',', '.'))\n",
    "        unit = match.group(2)\n",
    "\n",
    "        if unit and \"tỷ\" in unit.lower():  \n",
    "            value *= 1000\n",
    "\n",
    "        return int(value)\n",
    "    \n",
    "    return None\n",
    "\n",
    "df[\"Gia(Triệu)\"] = df[\"Gia(Triệu)\"].apply(extract_price)\n",
    "df = df[df['Gia(Triệu)'].notnull()]"
   ]
  },
  {
   "cell_type": "code",
   "execution_count": 323,
   "metadata": {},
   "outputs": [],
   "source": [
    "cols = [\"DienTich(m²)\", \"Phongngu\", \"PhongTam\"]\n",
    "df[cols] = df[cols].apply(pd.to_numeric, errors=\"coerce\")"
   ]
  },
  {
   "cell_type": "code",
   "execution_count": 324,
   "metadata": {},
   "outputs": [
    {
     "name": "stdout",
     "output_type": "stream",
     "text": [
      "Unnamed: 0            int64\n",
      "DienTich(m²)        float64\n",
      "Phongngu              int64\n",
      "SoTang              float64\n",
      "PhongTam              int64\n",
      "Loai                 object\n",
      "TinhTrangNoiThat     object\n",
      "HuongCuaChinh        object\n",
      "HuongBanCong         object\n",
      "Gia(Triệu)          float64\n",
      "Duong                object\n",
      "Phuong               object\n",
      "Quan                 object\n",
      "ThanhPho             object\n",
      "dtype: object\n"
     ]
    }
   ],
   "source": [
    "print(df.dtypes)"
   ]
  },
  {
   "cell_type": "code",
   "execution_count": 329,
   "metadata": {},
   "outputs": [],
   "source": [
    "#giá mỗi m2 đất\n",
    "df[\"Gia_m²(Triệu)\"] = (df[\"Gia(Triệu)\"] / df[\"DienTich(m²)\"]).round(2)"
   ]
  },
  {
   "cell_type": "code",
   "execution_count": 330,
   "metadata": {},
   "outputs": [
    {
     "data": {
      "text/html": [
       "<div>\n",
       "<style scoped>\n",
       "    .dataframe tbody tr th:only-of-type {\n",
       "        vertical-align: middle;\n",
       "    }\n",
       "\n",
       "    .dataframe tbody tr th {\n",
       "        vertical-align: top;\n",
       "    }\n",
       "\n",
       "    .dataframe thead th {\n",
       "        text-align: right;\n",
       "    }\n",
       "</style>\n",
       "<table border=\"1\" class=\"dataframe\">\n",
       "  <thead>\n",
       "    <tr style=\"text-align: right;\">\n",
       "      <th></th>\n",
       "      <th>Unnamed: 0</th>\n",
       "      <th>DienTich(m²)</th>\n",
       "      <th>Phongngu</th>\n",
       "      <th>SoTang</th>\n",
       "      <th>PhongTam</th>\n",
       "      <th>Loai</th>\n",
       "      <th>TinhTrangNoiThat</th>\n",
       "      <th>HuongCuaChinh</th>\n",
       "      <th>HuongBanCong</th>\n",
       "      <th>Gia(Triệu)</th>\n",
       "      <th>Duong</th>\n",
       "      <th>Phuong</th>\n",
       "      <th>Quan</th>\n",
       "      <th>ThanhPho</th>\n",
       "      <th>Gia_m²(Triệu)</th>\n",
       "    </tr>\n",
       "  </thead>\n",
       "  <tbody>\n",
       "    <tr>\n",
       "      <th>0</th>\n",
       "      <td>0</td>\n",
       "      <td>62.0</td>\n",
       "      <td>2</td>\n",
       "      <td>0.0</td>\n",
       "      <td>2</td>\n",
       "      <td>Chung cư</td>\n",
       "      <td>Không có nội thất</td>\n",
       "      <td>NaN</td>\n",
       "      <td>NaN</td>\n",
       "      <td>2000.0</td>\n",
       "      <td>Đường Nguyễn Văn Quỳ</td>\n",
       "      <td>Phú Thuận</td>\n",
       "      <td>7</td>\n",
       "      <td>Tp Hồ Chí Minh</td>\n",
       "      <td>32.26</td>\n",
       "    </tr>\n",
       "    <tr>\n",
       "      <th>1</th>\n",
       "      <td>1</td>\n",
       "      <td>95.0</td>\n",
       "      <td>3</td>\n",
       "      <td>0.0</td>\n",
       "      <td>2</td>\n",
       "      <td>Chung cư</td>\n",
       "      <td>Nội thất cao cấp</td>\n",
       "      <td>NaN</td>\n",
       "      <td>NaN</td>\n",
       "      <td>5300.0</td>\n",
       "      <td>Đường Nguyễn Văn Linh</td>\n",
       "      <td>Tân Thuận Tây</td>\n",
       "      <td>7</td>\n",
       "      <td>Tp Hồ Chí Minh</td>\n",
       "      <td>55.79</td>\n",
       "    </tr>\n",
       "    <tr>\n",
       "      <th>2</th>\n",
       "      <td>2</td>\n",
       "      <td>75.0</td>\n",
       "      <td>2</td>\n",
       "      <td>5.0</td>\n",
       "      <td>2</td>\n",
       "      <td>Chung cư</td>\n",
       "      <td>Không có nội thất</td>\n",
       "      <td>Đông Nam</td>\n",
       "      <td>Đông Nam</td>\n",
       "      <td>2580.0</td>\n",
       "      <td>Đường Võ Văn Kiệt</td>\n",
       "      <td>An Lạc</td>\n",
       "      <td>Bình Tân</td>\n",
       "      <td>Tp Hồ Chí Minh</td>\n",
       "      <td>34.40</td>\n",
       "    </tr>\n",
       "    <tr>\n",
       "      <th>3</th>\n",
       "      <td>3</td>\n",
       "      <td>70.0</td>\n",
       "      <td>1</td>\n",
       "      <td>7.0</td>\n",
       "      <td>1</td>\n",
       "      <td>Chung cư</td>\n",
       "      <td>Nội thất cao cấp</td>\n",
       "      <td>Đông Nam</td>\n",
       "      <td>Tây Bắc</td>\n",
       "      <td>4000.0</td>\n",
       "      <td>108</td>\n",
       "      <td>2</td>\n",
       "      <td>Tân Bình</td>\n",
       "      <td>Tp Hồ Chí Minh</td>\n",
       "      <td>57.14</td>\n",
       "    </tr>\n",
       "    <tr>\n",
       "      <th>4</th>\n",
       "      <td>4</td>\n",
       "      <td>83.0</td>\n",
       "      <td>2</td>\n",
       "      <td>0.0</td>\n",
       "      <td>2</td>\n",
       "      <td>Chung cư</td>\n",
       "      <td>Nội thất cao cấp</td>\n",
       "      <td>Tây Bắc</td>\n",
       "      <td>NaN</td>\n",
       "      <td>2950.0</td>\n",
       "      <td>Đường Hậu Giang</td>\n",
       "      <td>11</td>\n",
       "      <td>6</td>\n",
       "      <td>Tp Hồ Chí Minh</td>\n",
       "      <td>35.54</td>\n",
       "    </tr>\n",
       "    <tr>\n",
       "      <th>5</th>\n",
       "      <td>5</td>\n",
       "      <td>71.0</td>\n",
       "      <td>2</td>\n",
       "      <td>0.0</td>\n",
       "      <td>1</td>\n",
       "      <td>Chung cư</td>\n",
       "      <td>Không có nội thất</td>\n",
       "      <td>NaN</td>\n",
       "      <td>NaN</td>\n",
       "      <td>1980.0</td>\n",
       "      <td>196</td>\n",
       "      <td>4</td>\n",
       "      <td>8</td>\n",
       "      <td>Tp Hồ Chí Minh</td>\n",
       "      <td>27.89</td>\n",
       "    </tr>\n",
       "    <tr>\n",
       "      <th>6</th>\n",
       "      <td>6</td>\n",
       "      <td>71.0</td>\n",
       "      <td>2</td>\n",
       "      <td>0.0</td>\n",
       "      <td>2</td>\n",
       "      <td>Chung cư</td>\n",
       "      <td>Không có nội thất</td>\n",
       "      <td>NaN</td>\n",
       "      <td>NaN</td>\n",
       "      <td>2720.0</td>\n",
       "      <td>79-81</td>\n",
       "      <td>26</td>\n",
       "      <td>Bình Thạnh</td>\n",
       "      <td>Tp Hồ Chí Minh</td>\n",
       "      <td>38.31</td>\n",
       "    </tr>\n",
       "    <tr>\n",
       "      <th>7</th>\n",
       "      <td>7</td>\n",
       "      <td>78.0</td>\n",
       "      <td>2</td>\n",
       "      <td>9.0</td>\n",
       "      <td>2</td>\n",
       "      <td>Chung cư</td>\n",
       "      <td>Không có nội thất</td>\n",
       "      <td>NaN</td>\n",
       "      <td>NaN</td>\n",
       "      <td>2590.0</td>\n",
       "      <td>Đường Nguyễn Văn Linh</td>\n",
       "      <td></td>\n",
       "      <td></td>\n",
       "      <td>Tp Hồ Chí Minh</td>\n",
       "      <td>33.21</td>\n",
       "    </tr>\n",
       "    <tr>\n",
       "      <th>8</th>\n",
       "      <td>8</td>\n",
       "      <td>50.0</td>\n",
       "      <td>1</td>\n",
       "      <td>3.0</td>\n",
       "      <td>1</td>\n",
       "      <td>Chung cư</td>\n",
       "      <td>Hoàn thiện cơ bản</td>\n",
       "      <td>Nam</td>\n",
       "      <td>Bắc</td>\n",
       "      <td>1390.0</td>\n",
       "      <td>Đường Hồ Học Lãm</td>\n",
       "      <td>An Lạc</td>\n",
       "      <td>Bình Tân</td>\n",
       "      <td>Tp Hồ Chí Minh</td>\n",
       "      <td>27.80</td>\n",
       "    </tr>\n",
       "    <tr>\n",
       "      <th>9</th>\n",
       "      <td>9</td>\n",
       "      <td>40.0</td>\n",
       "      <td>1</td>\n",
       "      <td>0.0</td>\n",
       "      <td>1</td>\n",
       "      <td>Chung cư</td>\n",
       "      <td>Không có nội thất</td>\n",
       "      <td>NaN</td>\n",
       "      <td>NaN</td>\n",
       "      <td>150.0</td>\n",
       "      <td>Đường Nguyễn Văn Bứa</td>\n",
       "      <td></td>\n",
       "      <td></td>\n",
       "      <td>Tp Hồ Chí Minh</td>\n",
       "      <td>3.75</td>\n",
       "    </tr>\n",
       "  </tbody>\n",
       "</table>\n",
       "</div>"
      ],
      "text/plain": [
       "   Unnamed: 0  DienTich(m²)  Phongngu  SoTang  PhongTam       Loai  \\\n",
       "0           0          62.0         2     0.0         2   Chung cư   \n",
       "1           1          95.0         3     0.0         2   Chung cư   \n",
       "2           2          75.0         2     5.0         2   Chung cư   \n",
       "3           3          70.0         1     7.0         1   Chung cư   \n",
       "4           4          83.0         2     0.0         2   Chung cư   \n",
       "5           5          71.0         2     0.0         1   Chung cư   \n",
       "6           6          71.0         2     0.0         2   Chung cư   \n",
       "7           7          78.0         2     9.0         2   Chung cư   \n",
       "8           8          50.0         1     3.0         1   Chung cư   \n",
       "9           9          40.0         1     0.0         1   Chung cư   \n",
       "\n",
       "     TinhTrangNoiThat HuongCuaChinh HuongBanCong  Gia(Triệu)  \\\n",
       "0   Không có nội thất           NaN          NaN      2000.0   \n",
       "1    Nội thất cao cấp           NaN          NaN      5300.0   \n",
       "2   Không có nội thất      Đông Nam     Đông Nam      2580.0   \n",
       "3    Nội thất cao cấp      Đông Nam      Tây Bắc      4000.0   \n",
       "4    Nội thất cao cấp       Tây Bắc          NaN      2950.0   \n",
       "5   Không có nội thất           NaN          NaN      1980.0   \n",
       "6   Không có nội thất           NaN          NaN      2720.0   \n",
       "7   Không có nội thất           NaN          NaN      2590.0   \n",
       "8   Hoàn thiện cơ bản           Nam          Bắc      1390.0   \n",
       "9   Không có nội thất           NaN          NaN       150.0   \n",
       "\n",
       "                   Duong         Phuong        Quan        ThanhPho  \\\n",
       "0   Đường Nguyễn Văn Quỳ      Phú Thuận           7  Tp Hồ Chí Minh   \n",
       "1  Đường Nguyễn Văn Linh  Tân Thuận Tây           7  Tp Hồ Chí Minh   \n",
       "2      Đường Võ Văn Kiệt         An Lạc    Bình Tân  Tp Hồ Chí Minh   \n",
       "3                    108              2    Tân Bình  Tp Hồ Chí Minh   \n",
       "4        Đường Hậu Giang             11           6  Tp Hồ Chí Minh   \n",
       "5                    196              4           8  Tp Hồ Chí Minh   \n",
       "6                  79-81             26  Bình Thạnh  Tp Hồ Chí Minh   \n",
       "7  Đường Nguyễn Văn Linh                             Tp Hồ Chí Minh   \n",
       "8       Đường Hồ Học Lãm         An Lạc    Bình Tân  Tp Hồ Chí Minh   \n",
       "9   Đường Nguyễn Văn Bứa                             Tp Hồ Chí Minh   \n",
       "\n",
       "   Gia_m²(Triệu)  \n",
       "0          32.26  \n",
       "1          55.79  \n",
       "2          34.40  \n",
       "3          57.14  \n",
       "4          35.54  \n",
       "5          27.89  \n",
       "6          38.31  \n",
       "7          33.21  \n",
       "8          27.80  \n",
       "9           3.75  "
      ]
     },
     "execution_count": 330,
     "metadata": {},
     "output_type": "execute_result"
    }
   ],
   "source": [
    "df.head(10)"
   ]
  },
  {
   "cell_type": "code",
   "execution_count": 327,
   "metadata": {},
   "outputs": [
    {
     "data": {
      "text/plain": [
       "Unnamed: 0              0\n",
       "DienTich(m²)            0\n",
       "Phongngu                0\n",
       "SoTang                  0\n",
       "PhongTam                0\n",
       "Loai                    0\n",
       "TinhTrangNoiThat        0\n",
       "HuongCuaChinh       15545\n",
       "HuongBanCong        16245\n",
       "Gia(Triệu)              0\n",
       "Duong                   0\n",
       "Phuong                  0\n",
       "Quan                    0\n",
       "ThanhPho                0\n",
       "Gia_m²(Triệu)           0\n",
       "dtype: int64"
      ]
     },
     "execution_count": 327,
     "metadata": {},
     "output_type": "execute_result"
    }
   ],
   "source": [
    "df.isna().sum()"
   ]
  },
  {
   "cell_type": "code",
   "execution_count": 331,
   "metadata": {},
   "outputs": [],
   "source": [
    "df.to_csv('Temp.csv', index=False, encoding='utf-8-sig')"
   ]
  }
 ],
 "metadata": {
  "kernelspec": {
   "display_name": "Python 3",
   "language": "python",
   "name": "python3"
  },
  "language_info": {
   "codemirror_mode": {
    "name": "ipython",
    "version": 3
   },
   "file_extension": ".py",
   "mimetype": "text/x-python",
   "name": "python",
   "nbconvert_exporter": "python",
   "pygments_lexer": "ipython3",
   "version": "3.13.2"
  }
 },
 "nbformat": 4,
 "nbformat_minor": 2
}
